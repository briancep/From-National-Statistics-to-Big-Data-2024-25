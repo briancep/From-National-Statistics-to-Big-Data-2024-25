{
 "cells": [
  {
   "cell_type": "markdown",
   "metadata": {},
   "source": [
    "# Brian Cepparulo - 12/09/2024"
   ]
  },
  {
   "cell_type": "markdown",
   "metadata": {},
   "source": [
    "# Lab week 3 - creating variables"
   ]
  },
  {
   "cell_type": "markdown",
   "metadata": {},
   "source": [
    "# Create index ==100 if 2008q1"
   ]
  },
  {
   "cell_type": "code",
   "execution_count": null,
   "metadata": {},
   "outputs": [],
   "source": [
    "import pandas as pd\n",
    "import eurostat\n",
    "import numpy as np\n",
    "import os\n",
    "from datetime import datetime"
   ]
  },
  {
   "cell_type": "code",
   "execution_count": null,
   "metadata": {},
   "outputs": [],
   "source": [
    "%store -r df_gdp2"
   ]
  },
  {
   "cell_type": "code",
   "execution_count": null,
   "metadata": {},
   "outputs": [],
   "source": [
    "base_values = df_gdp2[df_gdp2['date'] == '2008-01-01'][['geo', 'B1GQ', 'P31_S14_S15' ]].\\\n",
    "    rename(columns={'B1GQ': 'gdp_2008q1', 'P31_S14_S15': 'c_2008q1'}) #extract the base value for each country\n"
   ]
  },
  {
   "cell_type": "code",
   "execution_count": null,
   "metadata": {},
   "outputs": [],
   "source": [
    "df_gdp2 = df_gdp2.merge(base_values, on='geo') # Merge the values back into the DataFrame\n"
   ]
  },
  {
   "cell_type": "code",
   "execution_count": null,
   "metadata": {},
   "outputs": [],
   "source": [
    "df_gdp2['gdp_index'] = df_gdp2['B1GQ'] / df_gdp2['gdp_2008q1'] *100 # Calculate the index for gdp"
   ]
  },
  {
   "cell_type": "code",
   "execution_count": null,
   "metadata": {},
   "outputs": [],
   "source": [
    "df_gdp2['c_index'] = df_gdp2['P31_S14_S15'] / df_gdp2['c_2008q1'] *100 # Calculate the index for consumption"
   ]
  },
  {
   "cell_type": "code",
   "execution_count": null,
   "metadata": {},
   "outputs": [],
   "source": [
    "df_gdp2"
   ]
  },
  {
   "cell_type": "markdown",
   "metadata": {},
   "source": [
    "# Compute the cumulative growth  of G between 2019q42 and 2022q4\n"
   ]
  },
  {
   "cell_type": "code",
   "execution_count": null,
   "metadata": {},
   "outputs": [],
   "source": [
    "df_19q4_22q4 = df_gdp2[(df_gdp2['date'] >= '2019-10-01') & (df_gdp2['date'] <= '2022-10-01')] \n",
    "df_19q4_22q4 = df_19q4_22q4[df_19q4_22q4['geo'] != 'UK'] #drop if geo equal to UK,\n",
    "cumulative_growth_19q4_22q4_G = df_19q4_22q4.groupby('geo').apply(lambda x: ((x['P3_S13'].iloc[-1] / x['P3_S13'].iloc[0]) - 1) * 100).reset_index(name='cumulative_growth_G')\n",
    "print(cumulative_growth_19q4_22q4_G) # Display the result\n"
   ]
  },
  {
   "cell_type": "markdown",
   "metadata": {},
   "source": [
    "# Compute yearly gdp growth rates"
   ]
  },
  {
   "cell_type": "code",
   "execution_count": null,
   "metadata": {},
   "outputs": [],
   "source": [
    "df_gdp2['gdp_yoy']=df_gdp2.groupby('geo')['B1GQ'].pct_change(periods=4) * 100\n",
    "average_growth = df_gdp2.groupby('geo')['gdp_yoy'].mean() # this is juest to show the method but not needed for assignment "
   ]
  },
  {
   "cell_type": "markdown",
   "metadata": {},
   "source": [
    "# RANKINGS - this is not needed for the assignment"
   ]
  },
  {
   "cell_type": "code",
   "execution_count": null,
   "metadata": {},
   "outputs": [],
   "source": [
    "df_gdp3=df_gdp2[df_gdp2.date<'2008-01-01']        #split the sample before and after 2008 \n",
    "df_gdp4=df_gdp2[df_gdp2.date>='2008-01-01']\n",
    "avg_gr_before = df_gdp3.groupby('geo')['gdp_yoy'].mean()\n",
    "avg_gr_after  = df_gdp4.groupby('geo')['gdp_yoy'].mean()"
   ]
  },
  {
   "cell_type": "code",
   "execution_count": null,
   "metadata": {},
   "outputs": [],
   "source": [
    "avg_gr_before = avg_gr_before.sort_values()\n",
    "print(avg_gr_before)"
   ]
  },
  {
   "cell_type": "code",
   "execution_count": null,
   "metadata": {},
   "outputs": [],
   "source": [
    "avg_gr_after = avg_gr_after.sort_values()\n",
    "print(avg_gr_after)"
   ]
  },
  {
   "cell_type": "code",
   "execution_count": null,
   "metadata": {},
   "outputs": [],
   "source": [
    "%store df_gdp2"
   ]
  }
 ],
 "metadata": {
  "kernelspec": {
   "display_name": "Python 3 (ipykernel)",
   "language": "python",
   "name": "python3"
  },
  "language_info": {
   "codemirror_mode": {
    "name": "ipython",
    "version": 3
   },
   "file_extension": ".py",
   "mimetype": "text/x-python",
   "name": "python",
   "nbconvert_exporter": "python",
   "pygments_lexer": "ipython3",
   "version": "3.11.5"
  }
 },
 "nbformat": 4,
 "nbformat_minor": 2
}
