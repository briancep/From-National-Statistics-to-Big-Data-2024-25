{
 "cells": [
  {
   "cell_type": "markdown",
   "metadata": {},
   "source": [
    "# Brian Cepparulo - 12/09/2024\n",
    "\n"
   ]
  },
  {
   "cell_type": "markdown",
   "metadata": {},
   "source": [
    "# Lab week 2 - how to manipulate a df"
   ]
  },
  {
   "cell_type": "code",
   "execution_count": null,
   "metadata": {},
   "outputs": [],
   "source": [
    "import pandas as pd\n",
    "import eurostat\n",
    "import numpy as np\n",
    "import os\n",
    "from datetime import datetime\n"
   ]
  },
  {
   "cell_type": "code",
   "execution_count": null,
   "metadata": {},
   "outputs": [],
   "source": [
    "%store -r df_gdp # recall the df previously stored"
   ]
  },
  {
   "cell_type": "code",
   "execution_count": null,
   "metadata": {},
   "outputs": [],
   "source": [
    "df_gdp\n"
   ]
  },
  {
   "cell_type": "code",
   "execution_count": null,
   "metadata": {},
   "outputs": [],
   "source": [
    "df_gdp=df_gdp.sort_values(by=['na_item']) #sort data by GDP component"
   ]
  },
  {
   "cell_type": "code",
   "execution_count": null,
   "metadata": {},
   "outputs": [],
   "source": [
    "l=list(df_gdp ['freq'].unique()) #extract list of unic values within column 'freq'\n",
    "l\n"
   ]
  },
  {
   "cell_type": "code",
   "execution_count": null,
   "metadata": {},
   "outputs": [],
   "source": [
    "l=list(df_gdp ['unit'].unique()) #extract list of unic values within column 'unit'\n",
    "l"
   ]
  },
  {
   "cell_type": "code",
   "execution_count": null,
   "metadata": {},
   "outputs": [],
   "source": [
    "l=list(df_gdp ['s_adj'].unique()) #extract list of unic values within column 's_adj'\n",
    "l"
   ]
  },
  {
   "cell_type": "code",
   "execution_count": null,
   "metadata": {},
   "outputs": [],
   "source": [
    "df_gdp2=df_gdp.drop(['freq','unit','s_adj'], axis=1) #we define a new df and drop columns"
   ]
  },
  {
   "cell_type": "code",
   "execution_count": null,
   "metadata": {},
   "outputs": [],
   "source": [
    "df_gdp2=df_gdp2.rename(columns={\"na_item\":\"series\",\"geo\\TIME_PERIOD\":\"geo\"}) #rename columns"
   ]
  },
  {
   "cell_type": "code",
   "execution_count": null,
   "metadata": {},
   "outputs": [],
   "source": [
    "df_gdp2\n"
   ]
  },
  {
   "cell_type": "code",
   "execution_count": null,
   "metadata": {},
   "outputs": [],
   "source": [
    "year_quart=list(df_gdp2.columns)\n",
    "year_quart\n"
   ]
  },
  {
   "cell_type": "code",
   "execution_count": null,
   "metadata": {},
   "outputs": [],
   "source": [
    "series_l=list(df_gdp2 ['series'].unique())  #extract list of unique items and insert in list\n",
    "series_l"
   ]
  },
  {
   "cell_type": "markdown",
   "metadata": {},
   "source": [
    "# change columns name of qurterly data for wide-to-long reshape"
   ]
  },
  {
   "cell_type": "code",
   "execution_count": null,
   "metadata": {},
   "outputs": [],
   "source": [
    "df_gdp2=df_gdp2.rename(columns={c: 'A_'+c for c in df_gdp2.columns if c not in ['geo', 'series']})\n",
    "for col in df_gdp2.columns:\n",
    "    df_gdp2.rename(columns={col:col.replace(\"-Q\",\"\")},inplace=True) \n",
    "    \n"
   ]
  },
  {
   "cell_type": "code",
   "execution_count": null,
   "metadata": {},
   "outputs": [],
   "source": [
    "### Reshape df\n",
    "df_gdp2=pd.wide_to_long(df_gdp2, ['A'], i=['geo','series'], j=\"time\", sep='_', ).reset_index()\n",
    "df_gdp2=df_gdp2.pivot_table(index=['geo','time'], columns='series', values='A')  #reshape eonomic series wide \n",
    "#and drop rows that contain missing values\n",
    "df_gdp2 = df_gdp2.reset_index()"
   ]
  },
  {
   "cell_type": "code",
   "execution_count": null,
   "metadata": {},
   "outputs": [],
   "source": [
    "is_integer = df_gdp2['time'].apply(lambda x: isinstance(x, int)) #check if 'time' contains integer\n",
    "is_string = df_gdp2['time'].apply(lambda x: isinstance(x, str)) #check if 'time' contains strings"
   ]
  },
  {
   "cell_type": "code",
   "execution_count": null,
   "metadata": {},
   "outputs": [],
   "source": [
    "is_integer\n"
   ]
  },
  {
   "cell_type": "code",
   "execution_count": null,
   "metadata": {},
   "outputs": [],
   "source": [
    "all_integers = is_integer.all() # as the list above is truncated we can check if alla values are integers like this\n",
    "all_integers"
   ]
  },
  {
   "cell_type": "code",
   "execution_count": null,
   "metadata": {},
   "outputs": [],
   "source": [
    "true_count = is_integer.sum()  # Counts how many True values\n",
    "print(f\"True count: {true_count}\")\n"
   ]
  },
  {
   "cell_type": "code",
   "execution_count": null,
   "metadata": {},
   "outputs": [],
   "source": [
    "df_gdp2\n"
   ]
  },
  {
   "cell_type": "markdown",
   "metadata": {},
   "source": [
    "# Function to convert \"YYYYQ\" to quarterly dates"
   ]
  },
  {
   "cell_type": "code",
   "execution_count": null,
   "metadata": {},
   "outputs": [],
   "source": [
    "def convert_to_quarterly_date(quarter_str):\n",
    "    year = int(str(quarter_str)[:4])\n",
    "    quarter = int(str(quarter_str)[-1])\n",
    "    \n",
    "    # Determine the month based on the quarter\n",
    "    if quarter == 1:\n",
    "        month = 1\n",
    "    elif quarter == 2:\n",
    "        month = 4\n",
    "    elif quarter == 3:\n",
    "        month = 7\n",
    "    elif quarter == 4:\n",
    "        month = 10\n",
    "    \n",
    "    return datetime(year, month, 1)"
   ]
  },
  {
   "cell_type": "markdown",
   "metadata": {},
   "source": [
    "# Apply the conversion function to the 'Quarter' column and create a new 'Time' column"
   ]
  },
  {
   "cell_type": "code",
   "execution_count": null,
   "metadata": {},
   "outputs": [],
   "source": [
    "df_gdp2['date'] = df_gdp2['time'].apply(convert_to_quarterly_date)"
   ]
  },
  {
   "cell_type": "code",
   "execution_count": null,
   "metadata": {},
   "outputs": [],
   "source": [
    "df_gdp2.drop(columns=['time'], inplace=True)"
   ]
  },
  {
   "cell_type": "code",
   "execution_count": null,
   "metadata": {},
   "outputs": [],
   "source": [
    "%store df_gdp2"
   ]
  }
 ],
 "metadata": {
  "kernelspec": {
   "display_name": "Python 3 (ipykernel)",
   "language": "python",
   "name": "python3"
  },
  "language_info": {
   "codemirror_mode": {
    "name": "ipython",
    "version": 3
   },
   "file_extension": ".py",
   "mimetype": "text/x-python",
   "name": "python",
   "nbconvert_exporter": "python",
   "pygments_lexer": "ipython3",
   "version": "3.11.5"
  }
 },
 "nbformat": 4,
 "nbformat_minor": 2
}
